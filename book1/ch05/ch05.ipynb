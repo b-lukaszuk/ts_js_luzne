{
  "cells": [
    {
      "cell_type": "markdown",
      "metadata": {
        "collapsed": false
      },
      "source": [
        "# Chapter 5. Higher-Order Functions."
      ]
    },
    {
      "cell_type": "markdown",
      "metadata": {
        "collapsed": false
      },
      "source": [
        "## Task 1\n",
        "\n",
        "Use the `reduce` method in combination with the `concat` method to “flatten” an\n",
        "array of arrays into a single array that has all the elements of the original\n",
        "arrays.\n"
      ]
    },
    {
      "cell_type": "code",
      "execution_count": 1,
      "metadata": {
        "collapsed": false
      },
      "outputs": [],
      "source": [
        "function flatten2dArr<T>(arr2d: T[][]): T[] {\n",
        "  return arr2d.reduce((acc: T[], curElt: T[]) => acc.concat(curElt));\n",
        "}\n"
      ]
    },
    {
      "cell_type": "markdown",
      "metadata": {
        "collapsed": false
      },
      "source": [
        "### Task 1. Testing"
      ]
    },
    {
      "cell_type": "code",
      "execution_count": 2,
      "metadata": {
        "collapsed": false
      },
      "outputs": [
        {
          "name": "stdout",
          "output_type": "stream",
          "text": [
            "[\n",
            "  1, 2, 3, 4,\n",
            "  5, 6, 7, 8\n",
            "]\n"
          ]
        }
      ],
      "source": [
        "let example1: number[][] = [\n",
        "  [1, 2],\n",
        "  [3, 4],\n",
        "  [5, 6],\n",
        "  [7, 8],\n",
        "];\n",
        "\n",
        "flatten2dArr(example1);\n"
      ]
    },
    {
      "cell_type": "code",
      "execution_count": 3,
      "metadata": {
        "collapsed": false
      },
      "outputs": [
        {
          "name": "stdout",
          "output_type": "stream",
          "text": [
            "[ 'ala', 'ma', 'kota' ]\n"
          ]
        }
      ],
      "source": [
        "let example2: string[][] = [['ala', 'ma'], ['kota']];\n",
        "flatten2dArr(example2);\n"
      ]
    },
    {
      "cell_type": "code",
      "execution_count": 4,
      "metadata": {
        "collapsed": false
      },
      "outputs": [
        {
          "name": "stdout",
          "output_type": "stream",
          "text": [
            "[\n",
            "  'a', 'b', 'c',\n",
            "  'd', 'e', 'f',\n",
            "  'g'\n",
            "]\n"
          ]
        }
      ],
      "source": [
        "let example3: string[][] = [\n",
        "  ['a', 'b'],\n",
        "  ['c', 'd', 'e'],\n",
        "  ['f', 'g'],\n",
        "];\n",
        "flatten2dArr(example3);\n"
      ]
    },
    {
      "cell_type": "markdown",
      "metadata": {
        "collapsed": false
      },
      "source": [
        "## Task 2\n",
        "\n",
        "[...] `every` method. This one returns `true` when the given function returns\n",
        "`true` for every element in the array. [...]\n",
        "\n",
        "Implement `every` as a function that takes an array and a predicate function as\n",
        "parameters. Write two versions, one using a loop and one using the `some`\n",
        "method.\n"
      ]
    },
    {
      "cell_type": "code",
      "execution_count": 5,
      "metadata": {
        "collapsed": false
      },
      "outputs": [],
      "source": [
        "function every1<T>(arr: T[], predicate: (elt: T) => boolean): boolean {\n",
        "  for (let i = 0; i < arr.length; i++) {\n",
        "    if (!predicate(arr[i])) {\n",
        "      return false;\n",
        "    }\n",
        "  }\n",
        "  return true;\n",
        "}\n"
      ]
    },
    {
      "cell_type": "code",
      "execution_count": 6,
      "metadata": {
        "collapsed": false
      },
      "outputs": [],
      "source": [
        "function every2<T>(arr: T[], predicate: (elt: T) => boolean): boolean {\n",
        "  return !arr.some((elt: T) => !predicate(elt));\n",
        "}\n"
      ]
    },
    {
      "cell_type": "code",
      "execution_count": 7,
      "metadata": {
        "collapsed": false
      },
      "outputs": [],
      "source": [
        "function isOdd(num: number): boolean {\n",
        "  return num % 2 === 1;\n",
        "}\n"
      ]
    },
    {
      "cell_type": "code",
      "execution_count": 8,
      "metadata": {
        "collapsed": false
      },
      "outputs": [],
      "source": [
        "function isTextAllLowercase(text: string): boolean {\n",
        "  return text === text.toLocaleLowerCase();\n",
        "}\n"
      ]
    },
    {
      "cell_type": "markdown",
      "metadata": {
        "collapsed": false
      },
      "source": [
        "### Task 2. Testing"
      ]
    },
    {
      "cell_type": "code",
      "execution_count": 9,
      "metadata": {
        "collapsed": false
      },
      "outputs": [
        {
          "name": "stdout",
          "output_type": "stream",
          "text": [
            "false\n"
          ]
        }
      ],
      "source": [
        "every1([1, 2, 3, 4], isOdd);\n"
      ]
    },
    {
      "cell_type": "code",
      "execution_count": 10,
      "metadata": {
        "collapsed": false
      },
      "outputs": [
        {
          "name": "stdout",
          "output_type": "stream",
          "text": [
            "true\n"
          ]
        }
      ],
      "source": [
        "every1([1, 3, 5, 7], isOdd);\n"
      ]
    },
    {
      "cell_type": "code",
      "execution_count": 11,
      "metadata": {
        "collapsed": false
      },
      "outputs": [
        {
          "name": "stdout",
          "output_type": "stream",
          "text": [
            "false\n"
          ]
        }
      ],
      "source": [
        "every2(['Ala', 'ma', 'kota'], isTextAllLowercase);\n"
      ]
    },
    {
      "cell_type": "code",
      "execution_count": 12,
      "metadata": {
        "collapsed": false
      },
      "outputs": [
        {
          "name": "stdout",
          "output_type": "stream",
          "text": [
            "true\n"
          ]
        }
      ],
      "source": [
        "every2(['do', 're', 'mi'], isTextAllLowercase);\n"
      ]
    }
  ],
  "metadata": {
    "kernelspec": {
      "argv": [
        "tslab",
        "kernel",
        "--config-path",
        "{connection_file}"
      ],
      "display_name": "TypeScript",
      "env": null,
      "interrupt_mode": "signal",
      "language": "typescript",
      "metadata": null,
      "name": "tslab"
    },
    "language_info": {
      "codemirror_mode": {
        "mode": "typescript",
        "name": "javascript",
        "typescript": true
      },
      "file_extension": ".ts",
      "mimetype": "text/typescript",
      "name": "typescript",
      "version": "3.7.2"
    },
    "name": "ch05.ipynb"
  },
  "nbformat": 4,
  "nbformat_minor": 2
}
