{
 "cells": [
  {
   "cell_type": "markdown",
   "id": "0a083436-c6dd-47b5-b730-79d1963f619a",
   "metadata": {
    "collapsed": false
   },
   "source": [
    "# Chapter 5. Higher-Order Functions."
   ]
  },
  {
   "cell_type": "markdown",
   "id": "eef55bb8-a660-4a47-82b9-401d850ffd9a",
   "metadata": {
    "collapsed": false
   },
   "source": [
    "## Task 1\n",
    "\n",
    "Use the `reduce` method in combination with the `concat` method to “flatten” an\n",
    "array of arrays into a single array that has all the elements of the original\n",
    "arrays.\n"
   ]
  },
  {
   "cell_type": "code",
   "execution_count": 1,
   "id": "19840240-c64a-42e7-926f-14809758a55d",
   "metadata": {
    "collapsed": false
   },
   "outputs": [],
   "source": [
    "function flatten2dArr<T>(arr2d: T[][]): T[] {\n",
    "  return arr2d.reduce((acc: T[], curElt: T[]) => acc.concat(curElt));\n",
    "}\n"
   ]
  },
  {
   "cell_type": "markdown",
   "id": "a285bca6-4701-43f8-901d-03fc4c04c0fc",
   "metadata": {
    "collapsed": false
   },
   "source": [
    "### Task 1. Testing"
   ]
  },
  {
   "cell_type": "code",
   "execution_count": 2,
   "id": "2894cf30-03b0-4314-88e9-11f714661931",
   "metadata": {
    "collapsed": false
   },
   "outputs": [
    {
     "name": "stdout",
     "output_type": "stream",
     "text": [
      "[\n",
      "  1, 2, 3, 4,\n",
      "  5, 6, 7, 8\n",
      "]\n"
     ]
    }
   ],
   "source": [
    "let example1: number[][] = [\n",
    "  [1, 2],\n",
    "  [3, 4],\n",
    "  [5, 6],\n",
    "  [7, 8],\n",
    "];\n",
    "\n",
    "flatten2dArr(example1);\n"
   ]
  },
  {
   "cell_type": "code",
   "execution_count": 3,
   "id": "6132c75d-8afe-4bbd-b87a-31bb6638bf33",
   "metadata": {
    "collapsed": false
   },
   "outputs": [
    {
     "name": "stdout",
     "output_type": "stream",
     "text": [
      "[ 'ala', 'ma', 'kota' ]\n"
     ]
    }
   ],
   "source": [
    "let example2: string[][] = [['ala', 'ma'], ['kota']];\n",
    "flatten2dArr(example2);\n"
   ]
  },
  {
   "cell_type": "code",
   "execution_count": 4,
   "id": "292abe85-ab32-4428-b574-b53de6b782ff",
   "metadata": {
    "collapsed": false
   },
   "outputs": [
    {
     "name": "stdout",
     "output_type": "stream",
     "text": [
      "[\n",
      "  'a', 'b', 'c',\n",
      "  'd', 'e', 'f',\n",
      "  'g'\n",
      "]\n"
     ]
    }
   ],
   "source": [
    "let example3: string[][] = [\n",
    "  ['a', 'b'],\n",
    "  ['c', 'd', 'e'],\n",
    "  ['f', 'g'],\n",
    "];\n",
    "flatten2dArr(example3);\n"
   ]
  },
  {
   "cell_type": "markdown",
   "id": "e85b75e1-558f-4a2e-ab9a-58a33692f8d6",
   "metadata": {
    "collapsed": false
   },
   "source": [
    "## Task 2\n",
    "\n",
    "[...] `every` method. This one returns `true` when the given function returns\n",
    "`true` for every element in the array. [...]\n",
    "\n",
    "Implement `every` as a function that takes an array and a predicate function as\n",
    "parameters. Write two versions, one using a loop and one using the `some`\n",
    "method.\n"
   ]
  },
  {
   "cell_type": "code",
   "execution_count": 5,
   "id": "3c7f7bed-e2d9-49bd-b0c8-37f79eef31c3",
   "metadata": {
    "collapsed": false
   },
   "outputs": [],
   "source": [
    "function every1<T>(arr: T[], predicate: (elt: T) => boolean): boolean {\n",
    "  for (let i = 0; i < arr.length; i++) {\n",
    "    if (!predicate(arr[i])) {\n",
    "      return false;\n",
    "    }\n",
    "  }\n",
    "  return true;\n",
    "}\n"
   ]
  },
  {
   "cell_type": "code",
   "execution_count": 6,
   "id": "48d5e24e-2bef-400a-9f48-cbc19976e02d",
   "metadata": {
    "collapsed": false
   },
   "outputs": [],
   "source": [
    "function every2<T>(arr: T[], predicate: (elt: T) => boolean): boolean {\n",
    "  return !arr.some((elt: T) => !predicate(elt));\n",
    "}\n"
   ]
  },
  {
   "cell_type": "code",
   "execution_count": 7,
   "id": "9cd102f7-ac08-4fe9-954f-88ada3683e44",
   "metadata": {
    "collapsed": false
   },
   "outputs": [],
   "source": [
    "function isOdd(num: number): boolean {\n",
    "  return num % 2 === 1;\n",
    "}\n"
   ]
  },
  {
   "cell_type": "code",
   "execution_count": 8,
   "id": "1c730704-b249-4a40-87df-cf6321ee1a1a",
   "metadata": {
    "collapsed": false
   },
   "outputs": [],
   "source": [
    "function isTextAllLowercase(text: string): boolean {\n",
    "  return text === text.toLocaleLowerCase();\n",
    "}\n"
   ]
  },
  {
   "cell_type": "markdown",
   "id": "844a2c39-c6dc-4eb8-a7b8-6d5e376d3737",
   "metadata": {
    "collapsed": false
   },
   "source": [
    "### Task 2. Testing"
   ]
  },
  {
   "cell_type": "code",
   "execution_count": 9,
   "id": "ccb0223e-2545-4036-be66-77d432e67e61",
   "metadata": {
    "collapsed": false
   },
   "outputs": [
    {
     "name": "stdout",
     "output_type": "stream",
     "text": [
      "false\n"
     ]
    }
   ],
   "source": [
    "every1([1, 2, 3, 4], isOdd);\n"
   ]
  },
  {
   "cell_type": "code",
   "execution_count": 10,
   "id": "6a41b787-be2e-410d-96a1-537e2bce1534",
   "metadata": {
    "collapsed": false
   },
   "outputs": [
    {
     "name": "stdout",
     "output_type": "stream",
     "text": [
      "true\n"
     ]
    }
   ],
   "source": [
    "every1([1, 3, 5, 7], isOdd);\n"
   ]
  },
  {
   "cell_type": "code",
   "execution_count": 11,
   "id": "d5abf9ce-8b44-4010-a2c0-9bf7d46c6366",
   "metadata": {
    "collapsed": false
   },
   "outputs": [
    {
     "name": "stdout",
     "output_type": "stream",
     "text": [
      "false\n"
     ]
    }
   ],
   "source": [
    "every2(['Ala', 'ma', 'kota'], isTextAllLowercase);\n"
   ]
  },
  {
   "cell_type": "code",
   "execution_count": 12,
   "id": "47030250-7b74-4581-9031-63807ef3b0b1",
   "metadata": {
    "collapsed": false
   },
   "outputs": [
    {
     "name": "stdout",
     "output_type": "stream",
     "text": [
      "true\n"
     ]
    }
   ],
   "source": [
    "every2(['do', 're', 'mi'], isTextAllLowercase);\n"
   ]
  }
 ],
 "metadata": {
  "kernelspec": {
   "argv": [
    "tslab",
    "kernel",
    "--config-path",
    "{connection_file}"
   ],
   "display_name": "TypeScript",
   "env": null,
   "interrupt_mode": "signal",
   "language": "typescript",
   "metadata": null,
   "name": "tslab"
  },
  "language_info": {
   "codemirror_mode": {
    "mode": "typescript",
    "name": "javascript",
    "typescript": true
   },
   "file_extension": ".ts",
   "mimetype": "text/typescript",
   "name": "typescript",
   "version": "3.7.2"
  },
  "name": "ch05.ipynb"
 },
 "nbformat": 4,
 "nbformat_minor": 2
}
