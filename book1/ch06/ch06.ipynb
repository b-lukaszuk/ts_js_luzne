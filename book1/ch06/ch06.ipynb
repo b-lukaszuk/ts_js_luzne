{
 "cells": [
  {
   "cell_type": "markdown",
   "metadata": {
    "collapsed": false
   },
   "source": [
    "# Chapter 6. The Secret Life of Objects."
   ]
  },
  {
   "cell_type": "markdown",
   "metadata": {
    "collapsed": false
   },
   "source": [
    "## Task 1\n",
    "\n",
    "Write a class `Vec` that represents a vector in two-dimensional space. It takes\n",
    "`x` and `y` parameters (numbers), which it should save to properties of the same\n",
    "name.\n",
    "\n",
    "Give the `Vec` prototype two methods, `plus` and `minus`, that take another\n",
    "vector as a parameter and return a new vector that has the sum or difference of\n",
    "the two vectors’ (this and the parameter) x and y values.\n",
    "\n",
    "Add a getter property `length` to the prototype that computes the length of the\n",
    "vector—that is, the distance of the point (x, y) from the origin (0, 0).\n"
   ]
  },
  {
   "cell_type": "code",
   "execution_count": null,
   "metadata": {
    "collapsed": false
   },
   "outputs": [],
   "source": [
    "class Vec {\n",
    "  constructor(private x: number, private y: number) {}\n",
    "\n",
    "  public toString(): string {\n",
    "    return `Vector(${this.x}, ${this.y})`;\n",
    "  }\n",
    "\n",
    "  public plus(other: Vec): Vec {\n",
    "    return new Vec(this.x + other.x, this.y + other.y);\n",
    "  }\n",
    "\n",
    "  public minus(other: Vec): Vec {\n",
    "    return new Vec(this.x - other.x, this.y - other.y);\n",
    "  }\n",
    "\n",
    "  public get length(): number {\n",
    "    // c^2 = a^2 + b^2\n",
    "    let diffVec: Vec = this.minus(new Vec(0, 0));\n",
    "    return Math.sqrt(diffVec.x * diffVec.x + diffVec.y * diffVec.y);\n",
    "  }\n",
    "}"
   ]
  },
  {
   "cell_type": "markdown",
   "metadata": {
    "collapsed": false
   },
   "source": [
    "### Task 1. Testing"
   ]
  },
  {
   "cell_type": "code",
   "execution_count": null,
   "metadata": {
    "collapsed": false
   },
   "outputs": [],
   "source": [
    "let vectors: Vec[] = [new Vec(1, 3), new Vec(3, 0), new Vec(0, 4)];\n",
    "let vectorToAddSubtract: Vec = new Vec(2, 2);\n",
    "\n",
    "for (const vect of vectors) {\n",
    "    console.log(`\\n${vect.toString()} length = ${vect.length.toFixed(2)}`);\n",
    "    console.log(\n",
    "      `${vect.toString()} + ${vectorToAddSubtract.toString()} = ${\n",
    "        vect.plus(vectorToAddSubtract)\n",
    "        .toString()}`\n",
    "    );\n",
    "    console.log(\n",
    "      `${vect.toString()} - ${vectorToAddSubtract.toString()} = ${vect\n",
    "        .minus(vectorToAddSubtract)\n",
    "        .toString()}`\n",
    "    );\n",
    "}"
   ]
  },
  {
   "cell_type": "markdown",
   "metadata": {
    "collapsed": false
   },
   "source": [
    "## Task 2\n",
    "\n",
    "Write a class called `Group` (since `Set` is already taken). Like `Set`, it has\n",
    "`add`, `delete`, and `has` methods. Its constructor creates an empty group,\n",
    "`add` adds a value to the group (but only if it isn’t already a member),\n",
    "`delete` removes its argument from the group (if it was a member), and `has`\n",
    "returns a Boolean value indicating whether its argument is a member of the\n",
    "group.\n",
    "\n",
    "Give the class a static `from` method that takes an iterable object as argument\n",
    "and creates a group that contains all the values produced by iterating over it."
   ]
  },
  {
   "cell_type": "code",
   "execution_count": null,
   "metadata": {
    "collapsed": false
   },
   "outputs": [],
   "source": [
    "class Group<T> {\n",
    "\n",
    "  public static from<T>(elements: T[]): Group<T> {\n",
    "    let result: Group<T> = new Group();\n",
    "    for (const elt of elements) {\n",
    "      result.add(elt);\n",
    "    }\n",
    "    return result;\n",
    "  }\n",
    "\n",
    "  private elements: T[] = [];\n",
    "  constructor() {}\n",
    "\n",
    "  public has(element: T): boolean {\n",
    "    for (const elt of this.elements) {\n",
    "      if (element === elt) {\n",
    "        return true;\n",
    "      }\n",
    "    }\n",
    "    return false;\n",
    "  }\n",
    "\n",
    "  public add(element: T) {\n",
    "    if (!this.has(element)) {\n",
    "      this.elements.push(element);\n",
    "    }\n",
    "  }\n",
    "\n",
    "  public delete(element: T) {\n",
    "    this.elements = this.elements.filter((elt: T) => elt !== element);\n",
    "  }\n",
    "\n",
    "  public toString(): string {\n",
    "    return `[${this.elements.toString()}]`;\n",
    "  }\n",
    "}"
   ]
  },
  {
   "cell_type": "code",
   "execution_count": null,
   "metadata": {
    "collapsed": false
   },
   "outputs": [],
   "source": [
    "function declareGroupExample1(): void {\n",
    "  let gr1: Group<number> = new Group();\n",
    "  console.log(`\\nnew Group() = ${gr1.toString()}`);\n",
    "  gr1.add(1);\n",
    "  console.log(`gr1.add(1) = ${gr1.toString()}`);\n",
    "  gr1.add(2);\n",
    "  console.log(`gr1.add(2) = ${gr1.toString()}`);\n",
    "  console.log(`gr1.has(2) = ${gr1.has(2)}`);\n",
    "  console.log(`gr1.has(3) = ${gr1.has(3)}`);\n",
    "  console.log(`gr1.add(2) = ${gr1.toString()}`);\n",
    "  gr1.add(3);\n",
    "  console.log(`gr1.add(3) = ${gr1.toString()}`);\n",
    "  gr1.delete(1);\n",
    "  console.log(`gr1.delete(1) = ${gr1.toString()}`);\n",
    "}\n",
    "\n",
    "declareGroupExample1()"
   ]
  },
  {
   "cell_type": "code",
   "execution_count": null,
   "metadata": {
    "collapsed": false
   },
   "outputs": [],
   "source": [
    "function declareGroupExample2(): void {\n",
    "  let gr2: Group<string> = Group.from(['ala', 'ma', 'kota', 'ma', 'ala']);\n",
    "  console.log(\n",
    "    `\\nGroup.from([\"ala\", \"ma\", \"kota\", \"ma\", \"ala\"]) = ${gr2.toString()}`\n",
    "  );\n",
    "}\n",
    "\n",
    "declareGroupExample2()"
   ]
  },
  {
   "cell_type": "markdown",
   "metadata": {
    "collapsed": false
   },
   "source": [
    "## Task 3\n",
    "\n",
    "Make the `Group` class from the previous exercise iterable.\n",
    "\n",
    "[...]\n",
    "\n",
    "If you used an array to represent the group’s members, don’t just return the\n",
    "iterator created by calling the Symbol.iterator method on the array. That would\n",
    "work, but it defeats the purpose of this exercise.\n",
    "\n",
    "It is okay if your iterator behaves strangely when the group is modified during\n",
    "iteration."
   ]
  },
  {
   "cell_type": "code",
   "execution_count": null,
   "metadata": {
    "collapsed": false
   },
   "outputs": [],
   "source": [
    "interface ResultOfNext<T> {\n",
    "  value: T | undefined;\n",
    "  done: boolean;\n",
    "}"
   ]
  },
  {
   "cell_type": "code",
   "execution_count": null,
   "metadata": {
    "collapsed": false
   },
   "outputs": [],
   "source": [
    "\n",
    "class Gr<T> {\n",
    "  public static from<T>(elements: T[]): Gr<T> {\n",
    "    let result: Gr<T> = new Gr();\n",
    "    for (const elt of elements) {\n",
    "      result.add(elt);\n",
    "    }\n",
    "    return result;\n",
    "  }\n",
    "\n",
    "  private elements: T[] = [];\n",
    "  private curEltId: number = 0;\n",
    "  constructor() {}\n",
    "\n",
    "  public has(element: T): boolean {\n",
    "    for (const elt of this.elements) {\n",
    "      if (element === elt) {\n",
    "        return true;\n",
    "      }\n",
    "    }\n",
    "    return false;\n",
    "  }\n",
    "\n",
    "  public add(element: T) {\n",
    "    if (!this.has(element)) {\n",
    "      this.elements.push(element);\n",
    "    }\n",
    "  }\n",
    "\n",
    "  public delete(element: T) {\n",
    "    this.elements = this.elements.filter((elt: T) => elt !== element);\n",
    "  }\n",
    "\n",
    "  public toString(): string {\n",
    "    return `[${this.elements.toString()}]`;\n",
    "  }\n",
    "\n",
    "  public next(): ResultOfNext<T> {\n",
    "    if (this.curEltId >= this.elements.length) {\n",
    "      return { value: undefined, done: true };\n",
    "    } else {\n",
    "      return { value: this.elements[this.curEltId++], done: false };\n",
    "    }\n",
    "  }\n",
    "\n",
    "  [Symbol.iterator](): Iterator<T> {\n",
    "    return this;\n",
    "  }\n",
    "}"
   ]
  },
  {
   "cell_type": "code",
   "execution_count": null,
   "metadata": {
    "collapsed": false
   },
   "outputs": [],
   "source": [
    "function declareGrIterationExample(): void {\n",
    "  let gr1: Gr<number> = Gr.from([1, 2, 3, 4, 5]);\n",
    "  console.log(`\\nIterating over ${gr1.toString()} using iterator`);\n",
    "  console.log(`for(const elt of gr1) {console.log(elt)}`);\n",
    "  for (const elt of gr1) {\n",
    "    console.log(elt);\n",
    "  }\n",
    "}"
   ]
  },
  {
   "cell_type": "markdown",
   "metadata": {
    "collapsed": false
   },
   "source": [
    "### Task 3. Testing"
   ]
  },
  {
   "cell_type": "code",
   "execution_count": null,
   "metadata": {
    "collapsed": false
   },
   "outputs": [],
   "source": [
    "declareGrIterationExample()"
   ]
  }
 ],
 "metadata": {
  "kernelspec": {
   "argv": [
    "tslab",
    "kernel",
    "--config-path",
    "{connection_file}"
   ],
   "display_name": "TypeScript",
   "env": null,
   "interrupt_mode": "signal",
   "language": "typescript",
   "metadata": null,
   "name": "tslab"
  },
  "language_info": {
   "codemirror_mode": {
    "mode": "typescript",
    "name": "javascript",
    "typescript": true
   },
   "file_extension": ".ts",
   "mimetype": "text/typescript",
   "name": "typescript",
   "version": "3.7.2"
  },
  "name": "ch06.ipynb"
 },
 "nbformat": 4,
 "nbformat_minor": 2
}
