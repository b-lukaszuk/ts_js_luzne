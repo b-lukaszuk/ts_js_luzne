{
 "cells": [
  {
   "cell_type": "markdown",
   "metadata": {},
   "source": [
    "# Chapter 2. Program structure."
   ]
  },
  {
   "cell_type": "markdown",
   "metadata": {},
   "source": [
    "## Chessboard\n",
    "\n",
    "Write a program that creates a string that represents an 8×8 grid [...] At each\n",
    "position of the grid there is either a space or a \"#\" character. The characters\n",
    "should form a chessboard.\n",
    "\n",
    "[...] should show something like this:\n",
    "\n",
    "<pre>\n",
    " # # # #\n",
    "# # # #\n",
    " # # # #\n",
    "# # # #\n",
    " # # # #\n",
    "# # # #\n",
    " # # # #\n",
    "# # # #\n",
    "</pre>\n",
    "\n",
    "When you have a program that generates this pattern, define a binding size = 8\n",
    "and change the program so that it works for any size, outputting a grid of the\n",
    "given width and height.\n"
   ]
  },
  {
   "cell_type": "code",
   "execution_count": null,
   "metadata": {},
   "outputs": [],
   "source": [
    "function getChessBoardRow(nCols: number = 8, startWithBlackField: boolean = false): string {\n",
    "  let row: string = '';\n",
    "  for (let c = 0; c < nCols; c++) {\n",
    "    row += startWithBlackField ? '#' : ' ';\n",
    "    startWithBlackField = !startWithBlackField;\n",
    "  }\n",
    "  return row + '\\n';\n",
    "}"
   ]
  },
  {
   "cell_type": "code",
   "execution_count": null,
   "metadata": {},
   "outputs": [],
   "source": [
    "function getChessboard(squareSideLength: number = 8) {\n",
    "  let chessboard: string = '';\n",
    "  let startWithBlackField: boolean = false;\n",
    "  for (let r = 0; r < squareSideLength; r++) {\n",
    "    chessboard += getChessBoardRow(squareSideLength, startWithBlackField);\n",
    "    startWithBlackField = !startWithBlackField;\n",
    "  }\n",
    "  return chessboard;\n",
    "}"
   ]
  },
  {
   "cell_type": "code",
   "execution_count": null,
   "metadata": {},
   "outputs": [],
   "source": [
    "function printChessboardsOfDifferentSizes(\n",
    "  squareSideLengthMinIncl: number = 7,\n",
    "  squareSideLengthMaxIncl: number = 8\n",
    "): void {\n",
    "  for (let i = squareSideLengthMinIncl; i < squareSideLengthMaxIncl + 1; i++) {\n",
    "    console.log(`\\nPrinting chessboard of size ${i}x${i}\\n`);\n",
    "    console.log(getChessboard(i));\n",
    "  }\n",
    "}"
   ]
  },
  {
   "cell_type": "markdown",
   "metadata": {},
   "source": [
    "### Testing"
   ]
  },
  {
   "cell_type": "code",
   "execution_count": null,
   "metadata": {},
   "outputs": [],
   "source": [
    "printChessboardsOfDifferentSizes(6, 10);"
   ]
  }
 ],
 "metadata": {
  "kernelspec": {
   "display_name": "TypeScript",
   "language": "typescript",
   "name": "tslab"
  },
  "language_info": {
   "codemirror_mode": {
    "mode": "typescript",
    "name": "javascript",
    "typescript": true
   },
   "file_extension": ".ts",
   "mimetype": "text/typescript",
   "name": "typescript",
   "version": "3.7.2"
  }
 },
 "nbformat": 4,
 "nbformat_minor": 2
}
