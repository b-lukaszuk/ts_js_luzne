{
  "cells": [
    {
      "cell_type": "markdown",
      "metadata": {},
      "source": [
        "# Chapter 3. Functions."
      ]
    },
    {
      "cell_type": "markdown",
      "metadata": {},
      "source": [
        "## Bean counting\n",
        "\n",
        "Write a function `countBs` that takes a string as its only argument and returns\n",
        "a number that indicates how many uppercase “B” characters there are in the\n",
        "string.\n",
        "\n",
        "Next, write a function called `countChar` that behaves like `countBs`, except it\n",
        "takes a second argument that indicates the character that is to be counted\n",
        "(rather than counting only uppercase “B” characters). Rewrite `countBs` to make\n",
        "use of this new function.\n"
      ]
    },
    {
      "cell_type": "code",
      "execution_count": null,
      "metadata": {},
      "outputs": [],
      "source": [
        "function countCharInText(text: string, char: string): number {\n",
        "  let count: number = 0;\n",
        "  for (let i = 0; i < text.length; i++) {\n",
        "    if (text[i] === char) {\n",
        "      count++;\n",
        "    }\n",
        "  }\n",
        "  return count;\n",
        "}"
      ]
    },
    {
      "cell_type": "code",
      "execution_count": null,
      "metadata": {},
      "outputs": [],
      "source": [
        "function countBsInText(text: string): number {\n",
        "  return countCharInText(text, 'B');\n",
        "}"
      ]
    },
    {
      "cell_type": "markdown",
      "metadata": {},
      "source": [
        "### Testing"
      ]
    },
    {
      "cell_type": "code",
      "execution_count": null,
      "metadata": {},
      "outputs": [],
      "source": [
        "const exemplaryTexts: string[] = [\n",
        "  'Hello there. General Kenobi!',\n",
        "  'Bare necessities, Bare necessities, bare necessities of life',\n",
        "  \"I'll make a man out of you.\",\n",
        "];\n",
        "exemplaryTexts.forEach((text) => {\n",
        "  console.log(`'${text}' contains ${countBsInText(text)} letter(s) B`);\n",
        "  console.log(`'${text}' contains ${countCharInText(text, 'e')} letter(s) e`);\n",
        "});"
      ]
    }
  ],
  "metadata": {
    "kernelspec": {
      "display_name": "TypeScript",
      "language": "typescript",
      "name": "tslab"
    },
    "language_info": {
      "codemirror_mode": {
        "mode": "typescript",
        "name": "javascript",
        "typescript": true
      },
      "file_extension": ".ts",
      "mimetype": "text/typescript",
      "name": "typescript",
      "version": "3.7.2"
    }
  },
  "nbformat": 4,
  "nbformat_minor": 2
}
