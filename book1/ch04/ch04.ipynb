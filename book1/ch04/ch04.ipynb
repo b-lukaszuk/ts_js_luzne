{
  "cells": [
    {
      "cell_type": "markdown",
      "metadata": {},
      "source": [
        "# Chapter 4. Data Structures: Objects and Arrays."
      ]
    },
    {
      "cell_type": "markdown",
      "metadata": {},
      "source": [
        "## Task 1\n",
        "\n",
        "[...] A list is a nested set of objects, with the first object holding a\n",
        "reference to the second, the second to the third, and so on.\n",
        "\n",
        "<pre>\n",
        "let list = {\n",
        "  value: 1,\n",
        "  rest: {\n",
        "    value: 2,\n",
        "    rest: {\n",
        "      value: 3,\n",
        "      rest: null,\n",
        "    },\n",
        "  },\n",
        "};\n",
        "</pre>\n",
        "\n",
        "Write a function `arrayToList` that builds up a list structure like the one\n",
        "shown when given `[1, 2, 3]` as argument. Also write a `listToArray ` [...].\n",
        "Then add a helper function `prepend`, [...] and `nth`, which takes a list and a\n",
        "number and returns the element at the given position in the list (with zero\n",
        "referring to the first element) or undefined when there is no such element.\n",
        "\n",
        "If you haven’t already, also write a recursive version of `nth`.\n"
      ]
    },
    {
      "cell_type": "code",
      "execution_count": null,
      "metadata": {},
      "outputs": [],
      "source": [
        "type List<T> = null | {\n",
        "  value: T;\n",
        "  rest: List<T>;\n",
        "};"
      ]
    },
    {
      "cell_type": "code",
      "execution_count": null,
      "metadata": {},
      "outputs": [],
      "source": [
        "function prepend<T>(someVal: T, someList: List<T>): List<T> {\n",
        "  return { value: someVal, rest: someList };\n",
        "}\n",
        "\n",
        "function nth<T>(someList: List<T>, n: number = 0): T | undefined {\n",
        "  if (someList === null) {\n",
        "    return undefined;\n",
        "  } else if (n === 0) {\n",
        "    return someList.value;\n",
        "  } else {\n",
        "    return nth(someList.rest, n - 1);\n",
        "  }\n",
        "}"
      ]
    },
    {
      "cell_type": "code",
      "execution_count": null,
      "metadata": {},
      "outputs": [],
      "source": [
        "function arrayToList<T>(arr: T[]): List<T> {\n",
        "  let result: List<T> = null;\n",
        "  for (let i = arr.length - 1; i >= 0; i--) {\n",
        "    result = prepend(arr[i], result);\n",
        "  }\n",
        "  return result;\n",
        "}\n",
        "\n",
        "function listToArray<T>(someList: List<T>): T[] {\n",
        "  function listToArr2(someList: List<T>, acc: T[]): T[] {\n",
        "    if (someList === null) {\n",
        "      return acc;\n",
        "    } else {\n",
        "      return listToArr2(someList.rest, [...acc, someList.value]);\n",
        "    }\n",
        "  }\n",
        "  return listToArr2(someList, []);\n",
        "}"
      ]
    },
    {
      "cell_type": "markdown",
      "metadata": {},
      "source": [
        "### Task 1. Testing"
      ]
    },
    {
      "cell_type": "code",
      "execution_count": null,
      "metadata": {},
      "outputs": [
        {
          "name": "stdout",
          "output_type": "stream",
          "text": [
            "{ value: 1, rest: { value: 2, rest: { value: 3, rest: null } } }\n"
          ]
        }
      ],
      "source": [
        "arrayToList([1, 2, 3]);"
      ]
    },
    {
      "cell_type": "code",
      "execution_count": null,
      "metadata": {},
      "outputs": [
        {
          "name": "stdout",
          "output_type": "stream",
          "text": [
            "[ 1, 2 ]\n"
          ]
        }
      ],
      "source": [
        "listToArray({ value: 1, rest: { value: 2, rest: null } });"
      ]
    },
    {
      "cell_type": "code",
      "execution_count": null,
      "metadata": {},
      "outputs": [
        {
          "name": "stdout",
          "output_type": "stream",
          "text": [
            "{ value: 'a', rest: null }\n"
          ]
        }
      ],
      "source": [
        "prepend('a', null);"
      ]
    },
    {
      "cell_type": "code",
      "execution_count": null,
      "metadata": {},
      "outputs": [],
      "source": [
        "nth({ value: 1, rest: { value: 2, rest: null } }, 2);"
      ]
    },
    {
      "cell_type": "markdown",
      "metadata": {},
      "source": [
        "## Task 2\n",
        "\n",
        "[...]\n",
        "\n",
        "Write a function `deepEqual` that takes two values and returns `true` only if\n",
        "they are the same value or are objects with the same properties, where the\n",
        "values of the properties are equal when compared with a recursive call to\n",
        "`deepEqual`.\n",
        "\n",
        "[..] But you have to take one silly exception into account: because of a\n",
        "historical accident, typeof null also produces \"object\". [...]\n"
      ]
    },
    {
      "cell_type": "code",
      "execution_count": null,
      "metadata": {},
      "outputs": [],
      "source": [
        "function isObject(maybeObj: any): boolean {\n",
        "  if (maybeObj === null) {\n",
        "    return false;\n",
        "  } else {\n",
        "    return typeof maybeObj === 'object';\n",
        "  }\n",
        "}"
      ]
    },
    {
      "cell_type": "code",
      "execution_count": null,
      "metadata": {},
      "outputs": [],
      "source": [
        "function deepEqual(any1: any, any2: any): boolean {\n",
        "  let result: boolean = true;\n",
        "  if (!isObject(any1) || !isObject(any2)) {\n",
        "    result = any1 === any2;\n",
        "  } else {\n",
        "    if (Object.keys(any1).length !== Object.keys(any2).length) {\n",
        "      result = false;\n",
        "    } else {\n",
        "      for (let key1 of Object.keys(any1)) {\n",
        "        if (key1 in any2) {\n",
        "          result = result && deepEqual(any1[key1], any2[key1]);\n",
        "        } else {\n",
        "          result = false;\n",
        "        }\n",
        "      }\n",
        "    }\n",
        "  }\n",
        "  return result;\n",
        "}"
      ]
    },
    {
      "cell_type": "markdown",
      "metadata": {},
      "source": [
        "### Task 2. Testing"
      ]
    },
    {
      "cell_type": "code",
      "execution_count": null,
      "metadata": {},
      "outputs": [],
      "source": [
        "let toCompare1: any[] = [\n",
        "  null,\n",
        "  null,\n",
        "  undefined,\n",
        "  2,\n",
        "  '2',\n",
        "  2,\n",
        "  { a: 1, b: { c: 1 } },\n",
        "  { a: 1, b: { c: 1 } },\n",
        "  { a: 1, b: { c: 1, d: 4 } },\n",
        "  { a: 1, b: { c: 1, d: [1, 3, 2] } },\n",
        "  { a: 1, b: { c: 1, d: [1, 3, 3] } },\n",
        "  { a: 1, b: { c: 1, d: { e: 4, f: 5 } } },\n",
        "  { a: 1, b: { c: 1, d: { e: 4, f: 5 } } },\n",
        "  [1, 2],\n",
        "  [1, 2, 3],\n",
        "];"
      ]
    },
    {
      "cell_type": "code",
      "execution_count": null,
      "metadata": {},
      "outputs": [],
      "source": [
        "let toCompare2: any[] = [\n",
        "  undefined,\n",
        "  null,\n",
        "  undefined,\n",
        "  '2',\n",
        "  '2',\n",
        "  2,\n",
        "  { a: 1, b: { c: 2 } },\n",
        "  { a: 1, b: { c: 1 } },\n",
        "  { a: 1, b: { c: 1 } },\n",
        "  { a: 1, b: { c: 1, d: [1, 3, 3] } },\n",
        "  { a: 1, b: { c: 1, d: [1, 3, 3] } },\n",
        "  { a: 1, b: { c: 1, d: { e: 4, f: 5 } } },\n",
        "  { a: 1, b: { c: 1, d: { e: 4, f: 6 } } },\n",
        "  [1, 2],\n",
        "  [1, 2],\n",
        "];"
      ]
    },
    {
      "cell_type": "code",
      "execution_count": null,
      "metadata": {},
      "outputs": [],
      "source": [
        "for (let i = 0; i < toCompare1.length; i++) {\n",
        "  console.log(`\\nComparing ${JSON.stringify(toCompare1[i])} with ${JSON.stringify(toCompare2[i])}`);\n",
        "  console.log(`are equal? ${deepEqual(toCompare1[i], toCompare2[i])}`);\n",
        "}"
      ]
    }
  ],
  "metadata": {
    "kernelspec": {
      "display_name": "TypeScript",
      "language": "typescript",
      "name": "tslab"
    },
    "language_info": {
      "codemirror_mode": {
        "mode": "typescript",
        "name": "javascript",
        "typescript": true
      },
      "file_extension": ".ts",
      "mimetype": "text/typescript",
      "name": "typescript",
      "version": "3.7.2"
    }
  },
  "nbformat": 4,
  "nbformat_minor": 2
}
