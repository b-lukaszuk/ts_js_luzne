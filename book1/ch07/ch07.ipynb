{
 "cells": [
  {
   "cell_type": "markdown",
   "id": "680282c2",
   "metadata": {},
   "source": [
    "# Ch07. Project: A Robot\n"
   ]
  },
  {
   "cell_type": "markdown",
   "id": "b064d89a",
   "metadata": {},
   "source": [
    "## MeadowField"
   ]
  },
  {
   "cell_type": "code",
   "execution_count": null,
   "id": "a371c927",
   "metadata": {},
   "outputs": [],
   "source": [
    "// meadowfield\n",
    "const roads: string[] = [\n",
    "  \"Alice's House-Bob's House\",\n",
    "  \"Alice's House-Cabin\",\n",
    "  \"Alice's House-Post Office\",\n",
    "  \"Bob's House-Town Hall\",\n",
    "  \"Daria's House-Ernie's House\",\n",
    "  \"Daria's House-Town Hall\",\n",
    "  \"Ernie's House-Grete's House\",\n",
    "  \"Grete's House-Farm\",\n",
    "  \"Grete's House-Shop\",\n",
    "  'Marketplace-Farm',\n",
    "  'Marketplace-Post Office',\n",
    "  'Marketplace-Shop',\n",
    "  'Marketplace-Town Hall',\n",
    "  'Shop-Town Hall',\n",
    "];"
   ]
  },
  {
   "cell_type": "code",
   "execution_count": null,
   "id": "d433bc95",
   "metadata": {},
   "outputs": [],
   "source": [
    "function addEdge(fromLocation: string, toLocation: string, graph: Map<string, string[]>): void {\n",
    "  if (graph.has(fromLocation)) {\n",
    "    graph.get(fromLocation).push(toLocation);\n",
    "  } else {\n",
    "    graph.set(fromLocation, [toLocation]);\n",
    "  }\n",
    "}\n",
    "\n",
    "function buildGraph(edges: string[]): Map<string, string[]> {\n",
    "  let graph: Map<string, string[]> = new Map();\n",
    "  for (let [fromLocation, toLocation] of edges.map((road) => road.split('-'))) {\n",
    "    addEdge(fromLocation, toLocation, graph);\n",
    "    addEdge(toLocation, fromLocation, graph);\n",
    "  }\n",
    "  return graph;\n",
    "}\n",
    "\n",
    "const roadsGraph = buildGraph(roads);"
   ]
  },
  {
   "cell_type": "markdown",
   "id": "5810bb23",
   "metadata": {},
   "source": [
    "## The Task"
   ]
  },
  {
   "cell_type": "code",
   "execution_count": null,
   "id": "ace33f04",
   "metadata": {},
   "outputs": [],
   "source": [
    "class Parcel {\n",
    "  private curLocation: string;\n",
    "  private destination: string;\n",
    "\n",
    "  constructor(curLocation: string, destination: string) {\n",
    "    this.curLocation = curLocation;\n",
    "    this.destination = destination;\n",
    "  }\n",
    "\n",
    "  printInfo(): void {\n",
    "    console.log('\\n---Parcel---');\n",
    "    console.log(`current location: ${this.curLocation}`);\n",
    "    console.log(`destination: ${this.destination}`);\n",
    "    console.log('---Parcel---');\n",
    "  }\n",
    "\n",
    "  getCurrentLocation(): string {\n",
    "    return this.curLocation;\n",
    "  }\n",
    "\n",
    "  getDestination(): string {\n",
    "    return this.destination;\n",
    "  }\n",
    "}"
   ]
  },
  {
   "cell_type": "code",
   "execution_count": null,
   "id": "cf0563a0",
   "metadata": {},
   "outputs": [],
   "source": [
    "class VillageState {\n",
    "  private curRobotLocation: string;\n",
    "  private parcels: Parcel[];\n",
    "  private roadGraph: Map<string, string[]>;\n",
    "\n",
    "  constructor(\n",
    "    curRobotLocation: string,\n",
    "    parcels: Parcel[],\n",
    "    roadGraph: Map<string, string[]>\n",
    "  ) {\n",
    "    this.curRobotLocation = curRobotLocation;\n",
    "    this.parcels = parcels;\n",
    "    this.roadGraph = roadGraph;\n",
    "  }\n",
    "\n",
    "  public getPlace(): string {\n",
    "    return this.curRobotLocation;\n",
    "  }\n",
    "\n",
    "  public getParcels(): Parcel[] {\n",
    "    return this.parcels;\n",
    "  }\n",
    "\n",
    "  public printParcelsInfo(): void {\n",
    "    if (this.parcels.length === 0) {\n",
    "      console.log('No parcels available.');\n",
    "    }\n",
    "    this.parcels.forEach((parcel) => {\n",
    "      parcel.printInfo();\n",
    "    });\n",
    "  }\n",
    "\n",
    "  public moveParcels(parcels: Parcel[], moveWhere: string): Parcel[] {\n",
    "    return parcels.map((parcel) => {\n",
    "      // robot picks up and moves parcel with it\n",
    "      if (parcel.getCurrentLocation() === this.curRobotLocation) {\n",
    "        return new Parcel(moveWhere, parcel.getDestination());\n",
    "      } else {\n",
    "        return parcel;\n",
    "      }\n",
    "    });\n",
    "  }\n",
    "\n",
    "  public removeDeliveredParcels(parcels: Parcel[]): Parcel[] {\n",
    "    return parcels.filter(\n",
    "      (parcel) => parcel.getCurrentLocation() !== parcel.getDestination()\n",
    "    );\n",
    "  }\n",
    "\n",
    "  public moveRobot(newRobotLocation: string): VillageState {\n",
    "    if (!this.roadGraph.has(newRobotLocation)) {\n",
    "      return this; // returns current state of the village\n",
    "    } else {\n",
    "      let movedParcels: Parcel[] = this.moveParcels(\n",
    "        this.parcels,\n",
    "        newRobotLocation\n",
    "      );\n",
    "      let undeliveredParcels: Parcel[] =\n",
    "        this.removeDeliveredParcels(movedParcels);\n",
    "      return new VillageState(\n",
    "        newRobotLocation,\n",
    "        undeliveredParcels,\n",
    "        this.roadGraph\n",
    "      );\n",
    "    }\n",
    "  }\n",
    "}"
   ]
  },
  {
   "cell_type": "code",
   "execution_count": null,
   "id": "e697f9c7",
   "metadata": {},
   "outputs": [],
   "source": [
    "let first = new VillageState(\n",
    "  'Post Office',\n",
    "  [new Parcel('Post Office', \"Alice's House\")],\n",
    "  roadsGraph\n",
    ");"
   ]
  },
  {
   "cell_type": "code",
   "execution_count": null,
   "id": "8cdcd856",
   "metadata": {},
   "outputs": [],
   "source": [
    "console.log(\"\\n\\n---Village's state--\");\n",
    "console.log('Initial village state.');\n",
    "console.log(`Robot's location: ${first.getPlace()}`);\n",
    "console.log('Parcels in the village:');\n",
    "first.printParcelsInfo();\n",
    "\n",
    "console.log(\"\\n\\n---Village's state--\");\n",
    "console.log(\"Moving robot to -Alice's House-\");\n",
    "let next = first.moveRobot(\"Alice's House\");\n",
    "console.log(`Robot's location: ${next.getPlace()}`);\n",
    "console.log('Parcels in the village:');\n",
    "next.printParcelsInfo();"
   ]
  }
 ],
 "metadata": {
  "kernelspec": {
   "display_name": "TypeScript",
   "language": "typescript",
   "name": "tslab"
  },
  "language_info": {
   "codemirror_mode": {
    "mode": "typescript",
    "name": "javascript",
    "typescript": true
   },
   "file_extension": ".ts",
   "mimetype": "text/typescript",
   "name": "typescript",
   "version": "3.7.2"
  },
  "name": "ch10.ipynb"
 },
 "nbformat": 4,
 "nbformat_minor": 5
}
