{
 "cells": [
  {
   "cell_type": "markdown",
   "metadata": {},
   "source": [
    "# Ch06. Currying and Partial Application"
   ]
  },
  {
   "cell_type": "markdown",
   "metadata": {},
   "source": [
    "## identity Function"
   ]
  },
  {
   "cell_type": "code",
   "execution_count": null,
   "metadata": {},
   "outputs": [],
   "source": [
    "const identity = <T>(x: T): T => x;\n"
   ]
  },
  {
   "cell_type": "markdown",
   "metadata": {},
   "source": [
    "## curry Function"
   ]
  },
  {
   "cell_type": "code",
   "execution_count": null,
   "metadata": {},
   "outputs": [],
   "source": [
    "let curry1 = <A, B, C>(binaryFn: (x: A, y: B) => C) => {\n",
    "  return function (a: A) {\n",
    "    return function (b: B) {\n",
    "      return binaryFn(a, b);\n",
    "    };\n",
    "  };\n",
    "};\n"
   ]
  },
  {
   "cell_type": "code",
   "execution_count": null,
   "metadata": {},
   "outputs": [],
   "source": [
    "let add = (x: number, y: number) => x + y;\n",
    "let mult = (x: number, y: number) => x * y;\n"
   ]
  },
  {
   "cell_type": "code",
   "execution_count": null,
   "metadata": {},
   "outputs": [],
   "source": [
    "let addOne = curry1(add)(1);\n",
    "let multBy2 = curry1(mult)(2);\n"
   ]
  },
  {
   "cell_type": "code",
   "execution_count": null,
   "metadata": {},
   "outputs": [],
   "source": [
    "for (let i = 0; i < 5; i++) {\n",
    "  console.log(`1 + ${i} = ${addOne(i)}`);\n",
    "  console.log(`2 * ${i} = ${multBy2(i)}`);\n",
    "  console.log('===');\n",
    "}\n"
   ]
  },
  {
   "cell_type": "markdown",
   "metadata": {},
   "source": [
    "## Revisit Curry"
   ]
  },
  {
   "cell_type": "code",
   "execution_count": null,
   "metadata": {},
   "outputs": [],
   "source": [
    "let curry2 = (fn: Function) => {\n",
    "  return function curriedFn(...args) {\n",
    "    return fn.apply(null, args);\n",
    "  };\n",
    "};\n"
   ]
  },
  {
   "cell_type": "code",
   "execution_count": null,
   "metadata": {},
   "outputs": [],
   "source": [
    "curry2(mult)(4, 2);\n"
   ]
  },
  {
   "cell_type": "code",
   "execution_count": null,
   "metadata": {},
   "outputs": [],
   "source": [
    "let curry3 = (fn: Function) => {\n",
    "  return function curriedFn(...args) {\n",
    "    if (args.length < fn.length) {\n",
    "      return function () {\n",
    "        return curriedFn.apply(null, args.concat([].slice.call(arguments)));\n",
    "      };\n",
    "    } else {\n",
    "      return fn.apply(null, args);\n",
    "    }\n",
    "  };\n",
    "};\n"
   ]
  },
  {
   "cell_type": "code",
   "execution_count": null,
   "metadata": {},
   "outputs": [],
   "source": [
    "curry3(mult)(4)(2);\n"
   ]
  },
  {
   "cell_type": "markdown",
   "metadata": {},
   "source": [
    "## Back to logger Function"
   ]
  },
  {
   "cell_type": "code",
   "execution_count": null,
   "metadata": {},
   "outputs": [],
   "source": [
    "enum Mode {\n",
    "  DEBUG = 'DEBUG',\n",
    "  ERROR = 'ERROR',\n",
    "  WARN = 'WARN',\n",
    "}\n"
   ]
  },
  {
   "cell_type": "code",
   "execution_count": null,
   "metadata": {},
   "outputs": [],
   "source": [
    "const loggerHelper = (mode: Mode, initialMessage: string, errorMessage: string, lineNo: number): void => {\n",
    "  if (mode === Mode.DEBUG) {\n",
    "    console.debug(initialMessage, errorMessage, 'at line:', lineNo);\n",
    "  } else if (mode == Mode.ERROR) {\n",
    "    console.error(initialMessage, errorMessage, 'at line:', lineNo);\n",
    "  } else if (mode === Mode.WARN) {\n",
    "    console.warn(initialMessage, errorMessage, 'at line', lineNo);\n",
    "  } else {\n",
    "    throw 'Wrong mode';\n",
    "  }\n",
    "};\n"
   ]
  },
  {
   "cell_type": "code",
   "execution_count": null,
   "metadata": {},
   "outputs": [],
   "source": [
    "let errorLogger = curry3(loggerHelper)(Mode.ERROR)('Error at test.js');\n",
    "let debugLogger = curry3(loggerHelper)(Mode.DEBUG)('Debut at test.js');\n",
    "let warnLogger = curry3(loggerHelper)(Mode.WARN)('Warn at test.js');\n"
   ]
  },
  {
   "cell_type": "code",
   "execution_count": null,
   "metadata": {},
   "outputs": [],
   "source": [
    "errorLogger('Error message', 1);\n"
   ]
  },
  {
   "cell_type": "code",
   "execution_count": null,
   "metadata": {},
   "outputs": [],
   "source": [
    "debugLogger('Debug message', 2);\n"
   ]
  },
  {
   "cell_type": "code",
   "execution_count": null,
   "metadata": {},
   "outputs": [],
   "source": [
    "warnLogger('Warn message', 3);\n"
   ]
  },
  {
   "cell_type": "markdown",
   "metadata": {},
   "source": [
    "## Finding a Number in Array Contents"
   ]
  },
  {
   "cell_type": "code",
   "execution_count": null,
   "metadata": {},
   "outputs": [],
   "source": [
    "let match = curry3(function (expr: RegExp, str: string): RegExpMatchArray | null {\n",
    "  return str.match(expr);\n",
    "});\n"
   ]
  },
  {
   "cell_type": "code",
   "execution_count": null,
   "metadata": {},
   "outputs": [],
   "source": [
    "let hasNumber = match(/[0-9]+/);\n"
   ]
  },
  {
   "cell_type": "code",
   "execution_count": null,
   "metadata": {},
   "outputs": [],
   "source": [
    "let filter = curry3(function <T>(fn: (x: T) => boolean, arr: T[]) {\n",
    "  return arr.filter(fn);\n",
    "});\n"
   ]
  },
  {
   "cell_type": "code",
   "execution_count": null,
   "metadata": {},
   "outputs": [],
   "source": [
    "let findNumbersInArray = filter(hasNumber);\n"
   ]
  },
  {
   "cell_type": "code",
   "execution_count": null,
   "metadata": {},
   "outputs": [],
   "source": [
    "findNumbersInArray(['js', 'n1']);\n"
   ]
  },
  {
   "cell_type": "markdown",
   "metadata": {},
   "source": [
    "## Squaring an Array"
   ]
  },
  {
   "cell_type": "code",
   "execution_count": null,
   "metadata": {},
   "outputs": [],
   "source": [
    "let map = curry3(function <A, B>(fn: (x: A) => B, arr: A[]): B[] {\n",
    "  return arr.map(fn);\n",
    "});\n"
   ]
  },
  {
   "cell_type": "code",
   "execution_count": null,
   "metadata": {},
   "outputs": [],
   "source": [
    "let squareArr = map((x: number) => x * x);\n"
   ]
  },
  {
   "cell_type": "code",
   "execution_count": null,
   "metadata": {},
   "outputs": [],
   "source": [
    "squareArr([1, 2, 3]);\n"
   ]
  },
  {
   "cell_type": "markdown",
   "metadata": {},
   "source": [
    "## Partial Application"
   ]
  },
  {
   "cell_type": "code",
   "execution_count": null,
   "metadata": {},
   "outputs": [],
   "source": [
    "const setTimeout1 = (timeMs: number, fn) => {\n",
    "  return setTimeout(fn, timeMs);\n",
    "};\n"
   ]
  },
  {
   "cell_type": "code",
   "execution_count": null,
   "metadata": {},
   "outputs": [],
   "source": [
    "const setTimeout10ms = curry3(setTimeout1)(10)"
   ]
  },
  {
   "cell_type": "code",
   "execution_count": null,
   "metadata": {},
   "outputs": [],
   "source": [
    "setTimeout10ms(() => console.log(\"Do task A.\"))"
   ]
  },
  {
   "cell_type": "code",
   "execution_count": null,
   "metadata": {},
   "outputs": [],
   "source": [
    "setTimeout10ms(() => console.log(\"Do task B.\"))"
   ]
  }
 ],
 "metadata": {
  "kernelspec": {
   "display_name": "TypeScript",
   "language": "typescript",
   "name": "tslab"
  },
  "language_info": {
   "codemirror_mode": {
    "mode": "typescript",
    "name": "javascript",
    "typescript": true
   },
   "file_extension": ".ts",
   "mimetype": "text/typescript",
   "name": "typescript",
   "version": "3.7.2"
  }
 },
 "nbformat": 4,
 "nbformat_minor": 2
}
