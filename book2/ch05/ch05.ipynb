{
 "cells": [
  {
   "cell_type": "markdown",
   "metadata": {},
   "source": [
    "## map Function"
   ]
  },
  {
   "cell_type": "code",
   "execution_count": null,
   "metadata": {},
   "outputs": [],
   "source": [
    "const map = <A, B>(arr: A[], fn: (_: A) => B): B[] => {\n",
    "  let result: B[] = [];\n",
    "  for (const elt of arr) {\n",
    "    result.push(fn(elt));\n",
    "  }\n",
    "  return result;\n",
    "};\n"
   ]
  },
  {
   "cell_type": "code",
   "execution_count": null,
   "metadata": {},
   "outputs": [],
   "source": [
    "map([1, 2, 3, 4], (a: number) => a * 3);\n"
   ]
  },
  {
   "cell_type": "code",
   "execution_count": null,
   "metadata": {},
   "outputs": [],
   "source": [
    "map([1, 2, 3, 4], (a: number) => `${a}`);\n"
   ]
  },
  {
   "cell_type": "markdown",
   "metadata": {},
   "source": [
    "## filter Function"
   ]
  },
  {
   "cell_type": "code",
   "execution_count": null,
   "metadata": {},
   "outputs": [],
   "source": [
    "const filter = <A>(arr: A[], fn: (_: A) => boolean): A[] => {\n",
    "  let result: A[] = [];\n",
    "  for (const elt of arr) {\n",
    "    if (fn(elt)) {\n",
    "      result.push(elt);\n",
    "    }\n",
    "  }\n",
    "  return result;\n",
    "};\n"
   ]
  },
  {
   "cell_type": "code",
   "execution_count": null,
   "metadata": {},
   "outputs": [],
   "source": [
    "let isOdd = (x: number): boolean => {\n",
    "  return x % 2 == 1;\n",
    "};\n"
   ]
  },
  {
   "cell_type": "code",
   "execution_count": null,
   "metadata": {},
   "outputs": [],
   "source": [
    "filter([1, 2, 3, 4, 5, 6], isOdd);\n"
   ]
  },
  {
   "cell_type": "code",
   "execution_count": null,
   "metadata": {},
   "outputs": [],
   "source": [
    "filter([1, 2, 3, 4, 5, 6], (n: number) => !isOdd(n));\n"
   ]
  },
  {
   "cell_type": "markdown",
   "metadata": {},
   "source": [
    "## concatAll Function"
   ]
  },
  {
   "cell_type": "code",
   "execution_count": null,
   "metadata": {},
   "outputs": [],
   "source": [
    "const concatAll = <A>(arr: A[]) => {\n",
    "  let result = [];\n",
    "  for (const elt of arr) {\n",
    "    result.push.apply(result, elt);\n",
    "  }\n",
    "  return result;\n",
    "};\n"
   ]
  },
  {
   "cell_type": "code",
   "execution_count": null,
   "metadata": {},
   "outputs": [],
   "source": [
    "concatAll([[1, 2], [3, 4, 5], [6, 7], [8]]);\n"
   ]
  },
  {
   "cell_type": "markdown",
   "metadata": {},
   "source": [
    "## reduce Function"
   ]
  },
  {
   "cell_type": "code",
   "execution_count": null,
   "metadata": {},
   "outputs": [],
   "source": [
    "let xs = [1, 2, 3, 4, 5, 6, 7, 8, 9, 10];\n"
   ]
  },
  {
   "cell_type": "code",
   "execution_count": null,
   "metadata": {},
   "outputs": [],
   "source": [
    "const reduce = <A, B>(arr: A[], fn: (acc: B, x: A) => B, init: B): B => {\n",
    "  let acc: B = init;\n",
    "  for (const elt of arr) {\n",
    "    acc = fn(acc, elt);\n",
    "  }\n",
    "  return acc;\n",
    "};\n"
   ]
  },
  {
   "cell_type": "code",
   "execution_count": null,
   "metadata": {},
   "outputs": [],
   "source": [
    "reduce(xs, (acc, cur) => acc + cur, 0)"
   ]
  },
  {
   "cell_type": "code",
   "execution_count": null,
   "metadata": {},
   "outputs": [],
   "source": [
    "reduce(xs, (acc, cur) => acc * cur, 1)"
   ]
  },
  {
   "cell_type": "code",
   "execution_count": null,
   "metadata": {},
   "outputs": [],
   "source": [
    "reduce(xs, (acc, cur) => Math.max(acc, cur), -Infinity)"
   ]
  },
  {
   "cell_type": "code",
   "execution_count": null,
   "metadata": {},
   "outputs": [],
   "source": [
    "reduce(xs, (acc, cur) => Math.min(acc, cur), Infinity)"
   ]
  },
  {
   "cell_type": "code",
   "execution_count": null,
   "metadata": {},
   "outputs": [],
   "source": [
    "reduce(\n",
    "    [[1, 2], [3, 4, 5], [6], [7, 8]],\n",
    "    (acc, cur) => [...acc, ...cur],\n",
    "    [] as number[])"
   ]
  }
 ],
 "metadata": {
  "kernelspec": {
   "display_name": "TypeScript",
   "language": "typescript",
   "name": "tslab"
  },
  "language_info": {
   "codemirror_mode": {
    "mode": "typescript",
    "name": "javascript",
    "typescript": true
   },
   "file_extension": ".ts",
   "mimetype": "text/typescript",
   "name": "typescript",
   "version": "3.7.2"
  }
 },
 "nbformat": 4,
 "nbformat_minor": 2
}
