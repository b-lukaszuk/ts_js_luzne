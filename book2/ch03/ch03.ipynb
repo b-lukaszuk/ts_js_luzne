{
 "cells": [
  {
   "cell_type": "markdown",
   "metadata": {},
   "source": [
    "# Ch03. Higher Order Functions"
   ]
  },
  {
   "cell_type": "markdown",
   "metadata": {},
   "source": [
    "## Passing a Function"
   ]
  },
  {
   "cell_type": "code",
   "execution_count": null,
   "metadata": {},
   "outputs": [],
   "source": [
    "let tellType = <T>(arg: T): void => {\n",
    "  console.log(typeof arg);\n",
    "};\n"
   ]
  },
  {
   "cell_type": "code",
   "execution_count": null,
   "metadata": {},
   "outputs": [],
   "source": [
    "tellType(2);\n",
    "tellType('something');\n"
   ]
  },
  {
   "cell_type": "code",
   "execution_count": null,
   "metadata": {},
   "outputs": [],
   "source": [
    "let dataFn = (): void => {\n",
    "  console.log(\"I'm a function\");\n",
    "};\n"
   ]
  },
  {
   "cell_type": "code",
   "execution_count": null,
   "metadata": {},
   "outputs": [],
   "source": [
    "tellType(dataFn);\n"
   ]
  },
  {
   "cell_type": "code",
   "execution_count": null,
   "metadata": {},
   "outputs": [],
   "source": [
    "tellType = <T>(arg: T): void => {\n",
    "  if (typeof arg === 'function') {\n",
    "    arg();\n",
    "  } else {\n",
    "    console.log(typeof arg);\n",
    "  }\n",
    "};\n"
   ]
  },
  {
   "cell_type": "code",
   "execution_count": null,
   "metadata": {},
   "outputs": [],
   "source": [
    "tellType(dataFn);\n"
   ]
  },
  {
   "cell_type": "markdown",
   "metadata": {},
   "source": [
    "## Abstraction via Higher Order Functions"
   ]
  },
  {
   "cell_type": "code",
   "execution_count": null,
   "metadata": {},
   "outputs": [],
   "source": [
    "// fn from ch02\n",
    "const forEach = <T>(arr: T[], fn: (x: T) => void) => {\n",
    "  for (let i = 0; i < arr.length; i++) {\n",
    "    fn(arr[i]);\n",
    "  }\n",
    "};"
   ]
  },
  {
   "cell_type": "code",
   "execution_count": null,
   "metadata": {},
   "outputs": [],
   "source": [
    "const forEachObject = (obj: Object, fn: Function): void => {\n",
    "  for (const prop in obj) {\n",
    "    if (obj.hasOwnProperty(prop)) fn(prop, obj[prop]);\n",
    "  }\n",
    "};"
   ]
  },
  {
   "cell_type": "code",
   "execution_count": null,
   "metadata": {},
   "outputs": [],
   "source": [
    "let object = { a: 1, b: 2 };\n",
    "forEachObject(object,\n",
    "    (k: string, v: number) => console.log(`${k}: ${v}`));"
   ]
  },
  {
   "cell_type": "code",
   "execution_count": null,
   "metadata": {},
   "outputs": [],
   "source": [
    "const unless = (predicate: boolean, fn: Function): void => {\n",
    "  if (!predicate) {\n",
    "    fn();\n",
    "  }\n",
    "};"
   ]
  },
  {
   "cell_type": "code",
   "execution_count": null,
   "metadata": {},
   "outputs": [],
   "source": [
    "const isOdd = (x: number): boolean => {\n",
    "  return x % 2 == 1;\n",
    "};"
   ]
  },
  {
   "cell_type": "code",
   "execution_count": null,
   "metadata": {},
   "outputs": [],
   "source": [
    "forEach([1, 2, 3, 4, 5, 6, 7], (n: number): void => {\n",
    "  unless(isOdd(n), () => {\n",
    "    console.log(`${n} is even`);\n",
    "  });\n",
    "});"
   ]
  },
  {
   "cell_type": "code",
   "execution_count": null,
   "metadata": {},
   "outputs": [],
   "source": [
    "const times = (n: number, fn: Function): void => {\n",
    "  for (let i = 0; i < n; i++) {\n",
    "    fn(i);\n",
    "  }\n",
    "};"
   ]
  },
  {
   "cell_type": "code",
   "execution_count": null,
   "metadata": {},
   "outputs": [],
   "source": [
    "times(11, (x: number): void => {\n",
    "  unless(isOdd(x), () => {\n",
    "    console.log(`${x} is even`);\n",
    "  });\n",
    "});"
   ]
  }
 ],
 "metadata": {
  "kernelspec": {
   "display_name": "TypeScript",
   "language": "typescript",
   "name": "tslab"
  },
  "language_info": {
   "codemirror_mode": {
    "mode": "typescript",
    "name": "javascript",
    "typescript": true
   },
   "file_extension": ".ts",
   "mimetype": "text/typescript",
   "name": "typescript",
   "version": "3.7.2"
  }
 },
 "nbformat": 4,
 "nbformat_minor": 2
}
