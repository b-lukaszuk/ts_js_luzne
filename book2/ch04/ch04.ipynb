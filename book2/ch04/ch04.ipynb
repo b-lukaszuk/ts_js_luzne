{
 "cells": [
  {
   "cell_type": "markdown",
   "metadata": {},
   "source": [
    "# Ch04. Closures and Higher Order Functions"
   ]
  },
  {
   "cell_type": "markdown",
   "metadata": {},
   "source": [
    "## Previously defined functions"
   ]
  },
  {
   "cell_type": "code",
   "execution_count": null,
   "metadata": {},
   "outputs": [],
   "source": [
    "// from ch02\n",
    "const forEach = <T>(arr: T[], fn: (x: T) => void) => {\n",
    "  for (let i = 0; i < arr.length; i++) {\n",
    "    fn(arr[i]);\n",
    "  }\n",
    "};\n"
   ]
  },
  {
   "cell_type": "markdown",
   "metadata": {},
   "source": [
    "## Closures. Remembering Where It is Born"
   ]
  },
  {
   "cell_type": "code",
   "execution_count": null,
   "metadata": {},
   "outputs": [],
   "source": [
    "let fn = <T>(arg: T): (() => void) => {\n",
    "  let outer: string = 'Visible';\n",
    "  let innerFn = () => {\n",
    "    console.log(outer);\n",
    "    console.log(arg);\n",
    "  };\n",
    "  return innerFn;\n",
    "};\n"
   ]
  },
  {
   "cell_type": "code",
   "execution_count": null,
   "metadata": {},
   "outputs": [],
   "source": [
    "fn(15)();\n"
   ]
  },
  {
   "cell_type": "markdown",
   "metadata": {},
   "source": [
    "## Higher Order Functions in the Real World (Continued)"
   ]
  },
  {
   "cell_type": "markdown",
   "metadata": {},
   "source": [
    "### tap Function"
   ]
  },
  {
   "cell_type": "code",
   "execution_count": null,
   "metadata": {},
   "outputs": [],
   "source": [
    "const tap = <T>(value: T) => {\n",
    "  return (fn: Function): void => {\n",
    "    typeof fn === 'function' && fn(value);\n",
    "    console.log(value);\n",
    "  };\n",
    "};\n"
   ]
  },
  {
   "cell_type": "code",
   "execution_count": null,
   "metadata": {},
   "outputs": [],
   "source": [
    "tap('fun')((it) => console.log('value is', it));\n"
   ]
  },
  {
   "cell_type": "code",
   "execution_count": null,
   "metadata": {},
   "outputs": [],
   "source": [
    "forEach([1, 2, 3], (a: number) => {\n",
    "  tap(a)(() => console.log(a));\n",
    "});\n"
   ]
  },
  {
   "cell_type": "code",
   "execution_count": null,
   "metadata": {},
   "outputs": [],
   "source": [
    "forEach([1, 2, 3], (a: number) => {\n",
    "  tap(a)(() => a * 3);\n",
    "});\n"
   ]
  },
  {
   "cell_type": "markdown",
   "metadata": {},
   "source": [
    "### unary Function"
   ]
  },
  {
   "cell_type": "code",
   "execution_count": null,
   "metadata": {},
   "outputs": [],
   "source": [
    "['1', '2', '3'].map(parseInt);\n"
   ]
  },
  {
   "cell_type": "code",
   "execution_count": null,
   "metadata": {},
   "outputs": [],
   "source": [
    "['1', '2', '3'].map((x, y) => [x, y]);\n"
   ]
  },
  {
   "cell_type": "code",
   "execution_count": null,
   "metadata": {},
   "outputs": [],
   "source": [
    "const unary = (fn) => {\n",
    "  return fn.length === 1 ? fn : (arg) => fn(arg);\n",
    "};\n"
   ]
  },
  {
   "cell_type": "code",
   "execution_count": null,
   "metadata": {},
   "outputs": [],
   "source": [
    "['1', '2', '3'].map(unary(parseInt));\n"
   ]
  },
  {
   "cell_type": "markdown",
   "metadata": {},
   "source": [
    "### once Function"
   ]
  },
  {
   "cell_type": "code",
   "execution_count": null,
   "metadata": {},
   "outputs": [],
   "source": [
    "const once = (fn: Function) => {\n",
    "  let done: boolean = false;\n",
    "\n",
    "  return function () {\n",
    "    return done ? undefined : ((done = true), fn.apply(this, arguments));\n",
    "  };\n",
    "};\n"
   ]
  },
  {
   "cell_type": "code",
   "execution_count": null,
   "metadata": {},
   "outputs": [],
   "source": [
    "let doPayment = once(() => console.log('Payment is done'));\n"
   ]
  },
  {
   "cell_type": "code",
   "execution_count": null,
   "metadata": {},
   "outputs": [],
   "source": [
    "doPayment();\n"
   ]
  },
  {
   "cell_type": "code",
   "execution_count": null,
   "metadata": {},
   "outputs": [],
   "source": [
    "doPayment();\n"
   ]
  },
  {
   "cell_type": "markdown",
   "metadata": {},
   "source": [
    "## memoize Function"
   ]
  },
  {
   "cell_type": "code",
   "execution_count": null,
   "metadata": {},
   "outputs": [],
   "source": [
    "let factorial = (n: number): number => {\n",
    "  return n <= 1 ? 1 : n * factorial(n - 1);\n",
    "};"
   ]
  },
  {
   "cell_type": "code",
   "execution_count": null,
   "metadata": {},
   "outputs": [],
   "source": [
    "const memoized = (fn) => {\n",
    "  const lookupTable = {};\n",
    "\n",
    "  return (arg) => lookupTable[arg] || (lookupTable[arg] = fn(arg));\n",
    "};"
   ]
  },
  {
   "cell_type": "code",
   "execution_count": null,
   "metadata": {},
   "outputs": [],
   "source": [
    "let fastFactorial = memoized((n: number): number => {\n",
    "  return n <= 1 ? 1 : n * fastFactorial(n - 1);\n",
    "});"
   ]
  },
  {
   "cell_type": "code",
   "execution_count": null,
   "metadata": {},
   "outputs": [],
   "source": [
    "const timeIt = (fn: Function): void => {\n",
    "  let start: number = performance.now();\n",
    "  let result = fn();\n",
    "  let end: number = performance.now();\n",
    "  console.log('the result of function is:', result);\n",
    "  console.log('execution time', (end - start) * 1000, '[microseconds]');\n",
    "};"
   ]
  },
  {
   "cell_type": "code",
   "execution_count": null,
   "metadata": {},
   "outputs": [],
   "source": [
    "timeIt(() => factorial(123))"
   ]
  },
  {
   "cell_type": "code",
   "execution_count": null,
   "metadata": {},
   "outputs": [],
   "source": [
    "timeIt(() => factorial(131))"
   ]
  },
  {
   "cell_type": "code",
   "execution_count": null,
   "metadata": {},
   "outputs": [],
   "source": [
    "timeIt(() => fastFactorial(123))"
   ]
  },
  {
   "cell_type": "code",
   "execution_count": null,
   "metadata": {},
   "outputs": [],
   "source": [
    "timeIt(() => fastFactorial(131))"
   ]
  }
 ],
 "metadata": {
  "kernelspec": {
   "display_name": "TypeScript",
   "language": "typescript",
   "name": "tslab"
  },
  "language_info": {
   "codemirror_mode": {
    "mode": "typescript",
    "name": "javascript",
    "typescript": true
   },
   "file_extension": ".ts",
   "mimetype": "text/typescript",
   "name": "typescript",
   "version": "3.7.2"
  }
 },
 "nbformat": 4,
 "nbformat_minor": 2
}
